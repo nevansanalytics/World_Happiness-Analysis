{
 "cells": [
  {
   "cell_type": "markdown",
   "id": "598360e4",
   "metadata": {},
   "source": [
    "# Testing Visualizations"
   ]
  },
  {
   "cell_type": "markdown",
   "id": "5b4efc91",
   "metadata": {},
   "source": [
    "### Importing libraries and data and renaming columns"
   ]
  },
  {
   "cell_type": "code",
   "execution_count": 1,
   "id": "08a57033",
   "metadata": {},
   "outputs": [],
   "source": [
    "import pandas as pd\n",
    "import numpy as np\n",
    "import seaborn as sns\n",
    "import matplotlib\n",
    "import matplotlib.pyplot as plt\n",
    "import os\n",
    "import sklearn\n",
    "from sklearn.cluster import KMeans # Here is where you import the k-means algorithm from scikit-learn.\n",
    "import pylab as pl # PyLab is a convenience module that bulk imports matplotlib."
   ]
  },
  {
   "cell_type": "code",
   "execution_count": 2,
   "id": "8ee2fbb8",
   "metadata": {},
   "outputs": [],
   "source": [
    "# This option ensures the graphs you create are displayed in your notebook without the need to \"call\" them specifically.\n",
    "\n",
    "%matplotlib inline"
   ]
  },
  {
   "cell_type": "code",
   "execution_count": 3,
   "id": "d90648a3",
   "metadata": {},
   "outputs": [],
   "source": [
    "path = r'C:\\Users\\natha\\OneDrive\\Desktop\\Data Analytics\\Jupyter\\12-2023 World Happiness'"
   ]
  },
  {
   "cell_type": "code",
   "execution_count": 4,
   "id": "91fd0b42",
   "metadata": {},
   "outputs": [],
   "source": [
    "df = pd.read_csv(os.path.join(path, '02 Data', 'Prepared Data', 'happiness_data_cleaned_5.csv'))"
   ]
  },
  {
   "cell_type": "code",
   "execution_count": 5,
   "id": "00759ec1",
   "metadata": {},
   "outputs": [
    {
     "data": {
      "text/plain": [
       "(790, 11)"
      ]
     },
     "execution_count": 5,
     "metadata": {},
     "output_type": "execute_result"
    }
   ],
   "source": [
    "df.shape"
   ]
  },
  {
   "cell_type": "code",
   "execution_count": 6,
   "id": "a95494e2",
   "metadata": {
    "scrolled": true
   },
   "outputs": [
    {
     "data": {
      "text/html": [
       "<div>\n",
       "<style scoped>\n",
       "    .dataframe tbody tr th:only-of-type {\n",
       "        vertical-align: middle;\n",
       "    }\n",
       "\n",
       "    .dataframe tbody tr th {\n",
       "        vertical-align: top;\n",
       "    }\n",
       "\n",
       "    .dataframe thead th {\n",
       "        text-align: right;\n",
       "    }\n",
       "</style>\n",
       "<table border=\"1\" class=\"dataframe\">\n",
       "  <thead>\n",
       "    <tr style=\"text-align: right;\">\n",
       "      <th></th>\n",
       "      <th>Country</th>\n",
       "      <th>Year</th>\n",
       "      <th>Happiness_Score</th>\n",
       "      <th>GDP_Per_Capita</th>\n",
       "      <th>Social_Support</th>\n",
       "      <th>Health_Life_Expectancy</th>\n",
       "      <th>Freedom_Life_Choices</th>\n",
       "      <th>Generosity</th>\n",
       "      <th>Perceptions_of_Corruption</th>\n",
       "      <th>Region</th>\n",
       "      <th>Happiness_Rank</th>\n",
       "    </tr>\n",
       "  </thead>\n",
       "  <tbody>\n",
       "    <tr>\n",
       "      <th>0</th>\n",
       "      <td>Switzerland</td>\n",
       "      <td>2015</td>\n",
       "      <td>7.587</td>\n",
       "      <td>1.39651</td>\n",
       "      <td>1.34951</td>\n",
       "      <td>0.94143</td>\n",
       "      <td>0.66557</td>\n",
       "      <td>0.29678</td>\n",
       "      <td>0.41978</td>\n",
       "      <td>Western Europe</td>\n",
       "      <td>1</td>\n",
       "    </tr>\n",
       "    <tr>\n",
       "      <th>1</th>\n",
       "      <td>Iceland</td>\n",
       "      <td>2015</td>\n",
       "      <td>7.561</td>\n",
       "      <td>1.30232</td>\n",
       "      <td>1.40223</td>\n",
       "      <td>0.94784</td>\n",
       "      <td>0.62877</td>\n",
       "      <td>0.43630</td>\n",
       "      <td>0.14145</td>\n",
       "      <td>Western Europe</td>\n",
       "      <td>2</td>\n",
       "    </tr>\n",
       "    <tr>\n",
       "      <th>2</th>\n",
       "      <td>Denmark</td>\n",
       "      <td>2015</td>\n",
       "      <td>7.527</td>\n",
       "      <td>1.32548</td>\n",
       "      <td>1.36058</td>\n",
       "      <td>0.87464</td>\n",
       "      <td>0.64938</td>\n",
       "      <td>0.34139</td>\n",
       "      <td>0.48357</td>\n",
       "      <td>Western Europe</td>\n",
       "      <td>3</td>\n",
       "    </tr>\n",
       "    <tr>\n",
       "      <th>3</th>\n",
       "      <td>Norway</td>\n",
       "      <td>2015</td>\n",
       "      <td>7.522</td>\n",
       "      <td>1.45900</td>\n",
       "      <td>1.33095</td>\n",
       "      <td>0.88521</td>\n",
       "      <td>0.66973</td>\n",
       "      <td>0.34699</td>\n",
       "      <td>0.36503</td>\n",
       "      <td>Western Europe</td>\n",
       "      <td>4</td>\n",
       "    </tr>\n",
       "    <tr>\n",
       "      <th>4</th>\n",
       "      <td>Canada</td>\n",
       "      <td>2015</td>\n",
       "      <td>7.427</td>\n",
       "      <td>1.32629</td>\n",
       "      <td>1.32261</td>\n",
       "      <td>0.90563</td>\n",
       "      <td>0.63297</td>\n",
       "      <td>0.45811</td>\n",
       "      <td>0.32957</td>\n",
       "      <td>North America</td>\n",
       "      <td>5</td>\n",
       "    </tr>\n",
       "  </tbody>\n",
       "</table>\n",
       "</div>"
      ],
      "text/plain": [
       "       Country  Year  Happiness_Score  GDP_Per_Capita  Social_Support  \\\n",
       "0  Switzerland  2015            7.587         1.39651         1.34951   \n",
       "1      Iceland  2015            7.561         1.30232         1.40223   \n",
       "2      Denmark  2015            7.527         1.32548         1.36058   \n",
       "3       Norway  2015            7.522         1.45900         1.33095   \n",
       "4       Canada  2015            7.427         1.32629         1.32261   \n",
       "\n",
       "   Health_Life_Expectancy  Freedom_Life_Choices  Generosity  \\\n",
       "0                 0.94143               0.66557     0.29678   \n",
       "1                 0.94784               0.62877     0.43630   \n",
       "2                 0.87464               0.64938     0.34139   \n",
       "3                 0.88521               0.66973     0.34699   \n",
       "4                 0.90563               0.63297     0.45811   \n",
       "\n",
       "   Perceptions_of_Corruption          Region  Happiness_Rank  \n",
       "0                    0.41978  Western Europe               1  \n",
       "1                    0.14145  Western Europe               2  \n",
       "2                    0.48357  Western Europe               3  \n",
       "3                    0.36503  Western Europe               4  \n",
       "4                    0.32957   North America               5  "
      ]
     },
     "execution_count": 6,
     "metadata": {},
     "output_type": "execute_result"
    }
   ],
   "source": [
    "df.head()"
   ]
  },
  {
   "cell_type": "markdown",
   "id": "1a6f3182",
   "metadata": {},
   "source": [
    "# Data Cleaning"
   ]
  },
  {
   "cell_type": "code",
   "execution_count": 7,
   "id": "0eaa3e34",
   "metadata": {},
   "outputs": [],
   "source": [
    "# Drop Categorical Columns\n",
    "features_for_clustering = df.drop(['Country', 'Region', 'Year', 'Happiness_Rank'], axis=1)"
   ]
  },
  {
   "cell_type": "code",
   "execution_count": 8,
   "id": "7af26a6f",
   "metadata": {},
   "outputs": [],
   "source": [
    "df = features_for_clustering"
   ]
  },
  {
   "cell_type": "code",
   "execution_count": 9,
   "id": "cdf0a190",
   "metadata": {},
   "outputs": [
    {
     "data": {
      "text/html": [
       "<div>\n",
       "<style scoped>\n",
       "    .dataframe tbody tr th:only-of-type {\n",
       "        vertical-align: middle;\n",
       "    }\n",
       "\n",
       "    .dataframe tbody tr th {\n",
       "        vertical-align: top;\n",
       "    }\n",
       "\n",
       "    .dataframe thead th {\n",
       "        text-align: right;\n",
       "    }\n",
       "</style>\n",
       "<table border=\"1\" class=\"dataframe\">\n",
       "  <thead>\n",
       "    <tr style=\"text-align: right;\">\n",
       "      <th></th>\n",
       "      <th>Happiness_Score</th>\n",
       "      <th>GDP_Per_Capita</th>\n",
       "      <th>Social_Support</th>\n",
       "      <th>Health_Life_Expectancy</th>\n",
       "      <th>Freedom_Life_Choices</th>\n",
       "      <th>Generosity</th>\n",
       "      <th>Perceptions_of_Corruption</th>\n",
       "    </tr>\n",
       "  </thead>\n",
       "  <tbody>\n",
       "    <tr>\n",
       "      <th>0</th>\n",
       "      <td>7.587</td>\n",
       "      <td>1.39651</td>\n",
       "      <td>1.34951</td>\n",
       "      <td>0.94143</td>\n",
       "      <td>0.66557</td>\n",
       "      <td>0.29678</td>\n",
       "      <td>0.41978</td>\n",
       "    </tr>\n",
       "    <tr>\n",
       "      <th>1</th>\n",
       "      <td>7.561</td>\n",
       "      <td>1.30232</td>\n",
       "      <td>1.40223</td>\n",
       "      <td>0.94784</td>\n",
       "      <td>0.62877</td>\n",
       "      <td>0.43630</td>\n",
       "      <td>0.14145</td>\n",
       "    </tr>\n",
       "    <tr>\n",
       "      <th>2</th>\n",
       "      <td>7.527</td>\n",
       "      <td>1.32548</td>\n",
       "      <td>1.36058</td>\n",
       "      <td>0.87464</td>\n",
       "      <td>0.64938</td>\n",
       "      <td>0.34139</td>\n",
       "      <td>0.48357</td>\n",
       "    </tr>\n",
       "    <tr>\n",
       "      <th>3</th>\n",
       "      <td>7.522</td>\n",
       "      <td>1.45900</td>\n",
       "      <td>1.33095</td>\n",
       "      <td>0.88521</td>\n",
       "      <td>0.66973</td>\n",
       "      <td>0.34699</td>\n",
       "      <td>0.36503</td>\n",
       "    </tr>\n",
       "    <tr>\n",
       "      <th>4</th>\n",
       "      <td>7.427</td>\n",
       "      <td>1.32629</td>\n",
       "      <td>1.32261</td>\n",
       "      <td>0.90563</td>\n",
       "      <td>0.63297</td>\n",
       "      <td>0.45811</td>\n",
       "      <td>0.32957</td>\n",
       "    </tr>\n",
       "  </tbody>\n",
       "</table>\n",
       "</div>"
      ],
      "text/plain": [
       "   Happiness_Score  GDP_Per_Capita  Social_Support  Health_Life_Expectancy  \\\n",
       "0            7.587         1.39651         1.34951                 0.94143   \n",
       "1            7.561         1.30232         1.40223                 0.94784   \n",
       "2            7.527         1.32548         1.36058                 0.87464   \n",
       "3            7.522         1.45900         1.33095                 0.88521   \n",
       "4            7.427         1.32629         1.32261                 0.90563   \n",
       "\n",
       "   Freedom_Life_Choices  Generosity  Perceptions_of_Corruption  \n",
       "0               0.66557     0.29678                    0.41978  \n",
       "1               0.62877     0.43630                    0.14145  \n",
       "2               0.64938     0.34139                    0.48357  \n",
       "3               0.66973     0.34699                    0.36503  \n",
       "4               0.63297     0.45811                    0.32957  "
      ]
     },
     "execution_count": 9,
     "metadata": {},
     "output_type": "execute_result"
    }
   ],
   "source": [
    "df.head()"
   ]
  },
  {
   "cell_type": "markdown",
   "id": "e52b5d62",
   "metadata": {},
   "source": [
    "# Standardizing the Scale\n",
    "# This step ensures that all numerical features have a similar scale, which is important for the k-means algorithm."
   ]
  },
  {
   "cell_type": "code",
   "execution_count": 10,
   "id": "90ae2488",
   "metadata": {},
   "outputs": [
    {
     "data": {
      "text/html": [
       "<div>\n",
       "<style scoped>\n",
       "    .dataframe tbody tr th:only-of-type {\n",
       "        vertical-align: middle;\n",
       "    }\n",
       "\n",
       "    .dataframe tbody tr th {\n",
       "        vertical-align: top;\n",
       "    }\n",
       "\n",
       "    .dataframe thead th {\n",
       "        text-align: right;\n",
       "    }\n",
       "</style>\n",
       "<table border=\"1\" class=\"dataframe\">\n",
       "  <thead>\n",
       "    <tr style=\"text-align: right;\">\n",
       "      <th></th>\n",
       "      <th>Happiness_Score</th>\n",
       "      <th>GDP_Per_Capita</th>\n",
       "      <th>Social_Support</th>\n",
       "      <th>Health_Life_Expectancy</th>\n",
       "      <th>Freedom_Life_Choices</th>\n",
       "      <th>Generosity</th>\n",
       "      <th>Perceptions_of_Corruption</th>\n",
       "    </tr>\n",
       "  </thead>\n",
       "  <tbody>\n",
       "    <tr>\n",
       "      <th>0</th>\n",
       "      <td>1.966124</td>\n",
       "      <td>1.234953</td>\n",
       "      <td>0.868709</td>\n",
       "      <td>1.392862</td>\n",
       "      <td>1.692148</td>\n",
       "      <td>0.670786</td>\n",
       "      <td>2.864791</td>\n",
       "    </tr>\n",
       "    <tr>\n",
       "      <th>1</th>\n",
       "      <td>1.943213</td>\n",
       "      <td>1.002852</td>\n",
       "      <td>1.035157</td>\n",
       "      <td>1.418816</td>\n",
       "      <td>1.448522</td>\n",
       "      <td>1.842080</td>\n",
       "      <td>0.161153</td>\n",
       "    </tr>\n",
       "    <tr>\n",
       "      <th>2</th>\n",
       "      <td>1.913252</td>\n",
       "      <td>1.059922</td>\n",
       "      <td>0.903659</td>\n",
       "      <td>1.122431</td>\n",
       "      <td>1.584966</td>\n",
       "      <td>1.045294</td>\n",
       "      <td>3.484434</td>\n",
       "    </tr>\n",
       "    <tr>\n",
       "      <th>3</th>\n",
       "      <td>1.908846</td>\n",
       "      <td>1.388940</td>\n",
       "      <td>0.810112</td>\n",
       "      <td>1.165228</td>\n",
       "      <td>1.719688</td>\n",
       "      <td>1.092307</td>\n",
       "      <td>2.332961</td>\n",
       "    </tr>\n",
       "    <tr>\n",
       "      <th>4</th>\n",
       "      <td>1.825132</td>\n",
       "      <td>1.061918</td>\n",
       "      <td>0.783781</td>\n",
       "      <td>1.247909</td>\n",
       "      <td>1.476328</td>\n",
       "      <td>2.025178</td>\n",
       "      <td>1.988511</td>\n",
       "    </tr>\n",
       "  </tbody>\n",
       "</table>\n",
       "</div>"
      ],
      "text/plain": [
       "   Happiness_Score  GDP_Per_Capita  Social_Support  Health_Life_Expectancy  \\\n",
       "0         1.966124        1.234953        0.868709                1.392862   \n",
       "1         1.943213        1.002852        1.035157                1.418816   \n",
       "2         1.913252        1.059922        0.903659                1.122431   \n",
       "3         1.908846        1.388940        0.810112                1.165228   \n",
       "4         1.825132        1.061918        0.783781                1.247909   \n",
       "\n",
       "   Freedom_Life_Choices  Generosity  Perceptions_of_Corruption  \n",
       "0              1.692148    0.670786                   2.864791  \n",
       "1              1.448522    1.842080                   0.161153  \n",
       "2              1.584966    1.045294                   3.484434  \n",
       "3              1.719688    1.092307                   2.332961  \n",
       "4              1.476328    2.025178                   1.988511  "
      ]
     },
     "execution_count": 10,
     "metadata": {},
     "output_type": "execute_result"
    }
   ],
   "source": [
    "from sklearn.preprocessing import StandardScaler\n",
    "\n",
    "# Standardize the numerical features\n",
    "scaler = StandardScaler()\n",
    "df_scaled = scaler.fit_transform(df)\n",
    "\n",
    "# Convert the standardized array back to a DataFrame\n",
    "df_standardized = pd.DataFrame(df_scaled, columns=df.columns)\n",
    "\n",
    "# Display the first few rows of the standardized DataFrame\n",
    "df_standardized.head()"
   ]
  },
  {
   "cell_type": "markdown",
   "id": "64cc0745",
   "metadata": {},
   "source": [
    "# Use the Elbow Technique\n",
    "### Let's apply the elbow technique to determine the optimal number of clusters for k-means. We'll fit the k-means algorithm for different values of k and observe the change in the sum of squared distances (inertia) for each k.\n",
    "\n"
   ]
  },
  {
   "cell_type": "code",
   "execution_count": 11,
   "id": "7b30a03b",
   "metadata": {},
   "outputs": [
    {
     "name": "stderr",
     "output_type": "stream",
     "text": [
      "C:\\ProgramData\\anaconda3\\Lib\\site-packages\\sklearn\\cluster\\_kmeans.py:1436: UserWarning: KMeans is known to have a memory leak on Windows with MKL, when there are less chunks than available threads. You can avoid it by setting the environment variable OMP_NUM_THREADS=4.\n",
      "  warnings.warn(\n",
      "C:\\ProgramData\\anaconda3\\Lib\\site-packages\\sklearn\\cluster\\_kmeans.py:1436: UserWarning: KMeans is known to have a memory leak on Windows with MKL, when there are less chunks than available threads. You can avoid it by setting the environment variable OMP_NUM_THREADS=4.\n",
      "  warnings.warn(\n",
      "C:\\ProgramData\\anaconda3\\Lib\\site-packages\\sklearn\\cluster\\_kmeans.py:1436: UserWarning: KMeans is known to have a memory leak on Windows with MKL, when there are less chunks than available threads. You can avoid it by setting the environment variable OMP_NUM_THREADS=4.\n",
      "  warnings.warn(\n",
      "C:\\ProgramData\\anaconda3\\Lib\\site-packages\\sklearn\\cluster\\_kmeans.py:1436: UserWarning: KMeans is known to have a memory leak on Windows with MKL, when there are less chunks than available threads. You can avoid it by setting the environment variable OMP_NUM_THREADS=4.\n",
      "  warnings.warn(\n",
      "C:\\ProgramData\\anaconda3\\Lib\\site-packages\\sklearn\\cluster\\_kmeans.py:1436: UserWarning: KMeans is known to have a memory leak on Windows with MKL, when there are less chunks than available threads. You can avoid it by setting the environment variable OMP_NUM_THREADS=4.\n",
      "  warnings.warn(\n",
      "C:\\ProgramData\\anaconda3\\Lib\\site-packages\\sklearn\\cluster\\_kmeans.py:1436: UserWarning: KMeans is known to have a memory leak on Windows with MKL, when there are less chunks than available threads. You can avoid it by setting the environment variable OMP_NUM_THREADS=4.\n",
      "  warnings.warn(\n",
      "C:\\ProgramData\\anaconda3\\Lib\\site-packages\\sklearn\\cluster\\_kmeans.py:1436: UserWarning: KMeans is known to have a memory leak on Windows with MKL, when there are less chunks than available threads. You can avoid it by setting the environment variable OMP_NUM_THREADS=4.\n",
      "  warnings.warn(\n",
      "C:\\ProgramData\\anaconda3\\Lib\\site-packages\\sklearn\\cluster\\_kmeans.py:1436: UserWarning: KMeans is known to have a memory leak on Windows with MKL, when there are less chunks than available threads. You can avoid it by setting the environment variable OMP_NUM_THREADS=4.\n",
      "  warnings.warn(\n",
      "C:\\ProgramData\\anaconda3\\Lib\\site-packages\\sklearn\\cluster\\_kmeans.py:1436: UserWarning: KMeans is known to have a memory leak on Windows with MKL, when there are less chunks than available threads. You can avoid it by setting the environment variable OMP_NUM_THREADS=4.\n",
      "  warnings.warn(\n",
      "C:\\ProgramData\\anaconda3\\Lib\\site-packages\\sklearn\\cluster\\_kmeans.py:1436: UserWarning: KMeans is known to have a memory leak on Windows with MKL, when there are less chunks than available threads. You can avoid it by setting the environment variable OMP_NUM_THREADS=4.\n",
      "  warnings.warn(\n"
     ]
    },
    {
     "data": {
      "image/png": "[encoded data removed]",
      "text/plain": [
       "<Figure size 800x500 with 1 Axes>"
      ]
     },
     "metadata": {},
     "output_type": "display_data"
    }
   ],
   "source": [
    "# Define the range of potential clusters in the data\n",
    "num_clusters_range = range(1, 11)\n",
    "\n",
    "# Fit k-means clusters for each value of k\n",
    "kmeans_models = [KMeans(n_clusters=i, n_init=10, random_state=42) for i in num_clusters_range]\n",
    "inertia_values = [model.fit(df_standardized).inertia_ for model in kmeans_models]\n",
    "\n",
    "# Plot the elbow curve\n",
    "plt.figure(figsize=(8, 5))\n",
    "plt.plot(num_clusters_range, inertia_values, marker='o')\n",
    "plt.title('Elbow Curve for Optimal K')\n",
    "plt.xlabel('Number of Clusters (K)')\n",
    "plt.ylabel('Inertia')\n",
    "plt.show()"
   ]
  },
  {
   "cell_type": "markdown",
   "id": "b0f53195",
   "metadata": {},
   "source": [
    "# The inertia slows down at \"4\" so we should choose this as our number of clusters"
   ]
  },
  {
   "cell_type": "code",
   "execution_count": 13,
   "id": "f5208966",
   "metadata": {},
   "outputs": [
    {
     "name": "stdout",
     "output_type": "stream",
     "text": [
      "Index(['Happiness_Score', 'GDP_Per_Capita', 'Social_Support',\n",
      "       'Health_Life_Expectancy', 'Freedom_Life_Choices', 'Generosity',\n",
      "       'Perceptions_of_Corruption'],\n",
      "      dtype='object')\n"
     ]
    }
   ],
   "source": [
    "print(df_standardized.columns)\n"
   ]
  },
  {
   "cell_type": "code",
   "execution_count": null,
   "id": "d288a06a",
   "metadata": {
    "scrolled": false
   },
   "outputs": [],
   "source": [
    "# Scatterplot\n",
    "sns.scatterplot(x='GDP_Per_Capita', y='Happiness_Score', hue='Cluster_Labels', data=df_standardized, palette='viridis')\n",
    "plt.title('Scatterplot of GDP Per Capita vs Happiness Score by Cluster')\n",
    "plt.show()"
   ]
  },
  {
   "cell_type": "markdown",
   "id": "d5cfb841",
   "metadata": {},
   "source": [
    "# Understanding Each Cluster"
   ]
  },
  {
   "cell_type": "code",
   "execution_count": null,
   "id": "fb668560",
   "metadata": {},
   "outputs": [],
   "source": [
    "cluster_stats = df_standardized.groupby('Cluster_Labels').mean()"
   ]
  },
  {
   "cell_type": "code",
   "execution_count": null,
   "id": "af2a585f",
   "metadata": {
    "scrolled": false
   },
   "outputs": [],
   "source": [
    "cluster_stats.head()"
   ]
  },
  {
   "cell_type": "code",
   "execution_count": null,
   "id": "b0b3dcf8",
   "metadata": {},
   "outputs": [],
   "source": [
    "import plotly.express as px\n",
    "\n",
    "# Assuming cluster_stats is your DataFrame with a 'Cluster_Labels' column\n",
    "fig = px.parallel_coordinates(cluster_stats.reset_index(), color=\"Cluster_Labels\",\n",
    "                              dimensions=[\"Happiness_Score\", \"GDP_Per_Capita\", \"Social_Support\",\n",
    "                                          \"Health_Life_Expectancy\", \"Freedom_Life_Choices\",\n",
    "                                          \"Generosity\", \"Perceptions_of_Corruption\"],\n",
    "                              color_continuous_scale=px.colors.qualitative.Set1,\n",
    "                              title=\"Cluster Comparison: Happiness Variables\")\n",
    "\n",
    "# Show the plot\n",
    "fig.show()\n"
   ]
  },
  {
   "cell_type": "markdown",
   "id": "53fa4398",
   "metadata": {},
   "source": [
    "## Cluster 0: (Above Average)\n",
    "\n",
    "#### Happiness Score: 0.515326\n",
    "#### GDP Per Capita: 0.409762\n",
    "#### Social Support: 0.578578\n",
    "#### Health Life Expectancy: 0.499425\n",
    "#### Freedom Life Choices: 0.458883\n",
    "#### Generosity: -0.180043\n",
    "#### Perceptions of Corruption: -0.349706\n",
    "### This cluster seems to represent countries with moderate to high happiness scores, GDP per capita, social support, and health life expectancy. However, there's a lower level of generosity and higher perceived corruption.\n",
    "\n",
    "## Cluster 1: (Well Below Average)\n",
    "\n",
    "#### Happiness Score: -1.031525\n",
    "#### GDP Per Capita: -1.177038\n",
    "#### Social Support: -0.878209\n",
    "#### Health Life Expectancy: -1.171372\n",
    "#### Freedom Life Choices: -0.364310\n",
    "#### Generosity: 0.282427\n",
    "#### Perceptions of Corruption: -0.042932\n",
    "### Cluster 1 appears to represent countries with low scores across all variables, particularly in happiness, GDP per capita, social support, and health life expectancy. However, there is a higher level of generosity compared to other clusters.\n",
    "\n",
    "## Cluster 2: (Below Average)\n",
    "\n",
    "#### Happiness Score: -0.269712\n",
    "#### GDP Per Capita: 0.236284\n",
    "#### Social Support: -0.172894\n",
    "#### Health Life Expectancy: 0.261737\n",
    "#### Freedom Life Choices: -0.911624\n",
    "#### Generosity: -0.663830\n",
    "#### Perceptions of Corruption: -0.525385\n",
    "### Cluster 2 seems to represent countries with below-average happiness scores, moderate GDP per capita, and health life expectancy. There's a lower level of social support and freedom, and a significant decrease in generosity.\n",
    "\n",
    "## Cluster 3: (Well Above Average)\n",
    "\n",
    "#### Happiness Score: 1.503452\n",
    "#### GDP Per Capita: 1.270549\n",
    "#### Social Support: 0.852770\n",
    "#### Health Life Expectancy: 1.001482\n",
    "#### Freedom Life Choices: 1.176132\n",
    "#### Generosity: 0.866322\n",
    "#### Perceptions of Corruption: 1.780191\n",
    "### Cluster 3 represents countries with high happiness scores, GDP per capita, social support, and health life expectancy. There's also a high level of freedom, generosity, and a significant increase in perceived corruption compared to other clusters.\n",
    "\n",
    "# Overall Interpretation:\n",
    "\n",
    "### Cluster 3 seems to represent the happiest and most prosperous countries.\n",
    "### Cluster 0 represents moderately happy countries with some concerns about corruption.\n",
    "### Cluster 2 includes countries with below-average happiness and challenges in social support and freedom.\n",
    "### Cluster 1 represents the least happy countries but with a higher level of generosity."
   ]
  },
  {
   "cell_type": "code",
   "execution_count": null,
   "id": "c93154ae",
   "metadata": {},
   "outputs": [],
   "source": []
  },
  {
   "cell_type": "code",
   "execution_count": null,
   "id": "39349bf0",
   "metadata": {},
   "outputs": [],
   "source": [
    "# Scatterplot\n",
    "sns.scatterplot(x='Social_Support', y='Happiness_Score', hue='Cluster_Labels', data=df_standardized, palette='viridis')\n",
    "plt.title('Scatterplot of Social Support vs Happiness Score by Cluster')\n",
    "plt.show()"
   ]
  },
  {
   "cell_type": "code",
   "execution_count": null,
   "id": "cd8ed988",
   "metadata": {},
   "outputs": [],
   "source": []
  },
  {
   "cell_type": "code",
   "execution_count": null,
   "id": "8487a395",
   "metadata": {},
   "outputs": [],
   "source": [
    "# Scatterplot\n",
    "sns.scatterplot(x='Health_Life_Expectancy', y='Happiness_Score', hue='Cluster_Labels', data=df_standardized, palette='viridis')\n",
    "plt.title('Scatterplot of Health Life Expectancy vs Happiness Score by Cluster')\n",
    "plt.show()"
   ]
  },
  {
   "cell_type": "code",
   "execution_count": null,
   "id": "3191817f",
   "metadata": {},
   "outputs": [],
   "source": [
    "# Scatterplot\n",
    "sns.scatterplot(x='Freedom_Life_Choices', y='Happiness_Score', hue='Cluster_Labels', data=df_standardized, palette='viridis')\n",
    "plt.title('Scatterplot of Freedom Life Choices vs Happiness Score by Cluster')\n",
    "plt.show()"
   ]
  },
  {
   "cell_type": "code",
   "execution_count": null,
   "id": "693aae94",
   "metadata": {},
   "outputs": [],
   "source": [
    "# Scatterplot\n",
    "sns.scatterplot(x='Generosity', y='Happiness_Score', hue='Cluster_Labels', data=df_standardized, palette='viridis')\n",
    "plt.title('Scatterplot of Generosity vs Happiness Score by Cluster')\n",
    "plt.show()"
   ]
  },
  {
   "cell_type": "code",
   "execution_count": null,
   "id": "0dab8161",
   "metadata": {},
   "outputs": [],
   "source": [
    "# Scatterplot\n",
    "sns.scatterplot(x='Perceptions_of_Corruption', y='Happiness_Score', hue='Cluster_Labels', data=df_standardized, palette='viridis')\n",
    "plt.title('Scatterplot of Perceptions of Corruption vs Happiness Score by Cluster')\n",
    "plt.show()"
   ]
  },
  {
   "cell_type": "markdown",
   "id": "adbc4025",
   "metadata": {},
   "source": [
    "# Pairplot"
   ]
  },
  {
   "cell_type": "code",
   "execution_count": null,
   "id": "00bf8a98",
   "metadata": {},
   "outputs": [],
   "source": [
    "# Plot pairplot colored by clusters\n",
    "sns.pairplot(df_standardized, hue='Cluster_Labels', palette='viridis', diag_kind='kde')\n",
    "plt.show()"
   ]
  },
  {
   "cell_type": "markdown",
   "id": "5805a54a",
   "metadata": {},
   "source": [
    "# Random Forest  Model to Determine Variable Importance towards Happiness"
   ]
  },
  {
   "cell_type": "code",
   "execution_count": null,
   "id": "8b1989ee",
   "metadata": {},
   "outputs": [],
   "source": [
    "from sklearn.ensemble import RandomForestRegressor\n",
    "\n",
    "# df_standardized contains the standardized features and happiness score\n",
    "X = df_standardized.drop(columns=['Happiness_Score', 'Cluster_Labels'])\n",
    "y = df_standardized['Happiness_Score']\n",
    "\n",
    "# Fit a Random Forest model\n",
    "rf_model = RandomForestRegressor(n_estimators=100, random_state=42)\n",
    "rf_model.fit(X, y)\n",
    "\n",
    "# Get feature importances\n",
    "importances = rf_model.feature_importances_\n",
    "\n",
    "# Create a DataFrame with feature names and their importances\n",
    "feature_importance_df = pd.DataFrame({\n",
    "    'Feature': X.columns,\n",
    "    'Importance': importances\n",
    "})\n",
    "\n",
    "# Sort the DataFrame by importance\n",
    "sorted_feature_importance = feature_importance_df.sort_values(by='Importance', ascending=False)\n",
    "\n",
    "# Display the sorted feature importances\n",
    "print(sorted_feature_importance)"
   ]
  },
  {
   "cell_type": "code",
   "execution_count": null,
   "id": "c7046604",
   "metadata": {},
   "outputs": [],
   "source": [
    "import plotly.express as px\n",
    "\n",
    "# Assuming sorted_feature_importance is your DataFrame\n",
    "fig = px.bar(sorted_feature_importance, x='Importance', y='Feature', orientation='h',\n",
    "             title='Feature Importance in Predicting Happiness Score',\n",
    "             labels={'Importance': 'Importance', 'Feature': 'Feature'})\n",
    "\n",
    "# Customize the layout if needed\n",
    "fig.update_layout(\n",
    "    xaxis_title='Importance',\n",
    "    yaxis_title='Feature',\n",
    "    yaxis_categoryorder='total ascending',  # Order features by total importance\n",
    "    autosize=False,\n",
    "    width=800,\n",
    "    height=500\n",
    ")\n",
    "\n",
    "# Show the plot\n",
    "fig.show()\n"
   ]
  },
  {
   "cell_type": "code",
   "execution_count": null,
   "id": "0ad53b50",
   "metadata": {},
   "outputs": [],
   "source": [
    "import plotly.express as px\n",
    "\n",
    "# Create a treemap\n",
    "fig = px.treemap(\n",
    "    sorted_feature_importance,\n",
    "    path=['Feature'],\n",
    "    values='Importance',\n",
    "    title='Feature Importance in Predicting Happiness Score',\n",
    "    color='Importance',\n",
    "    color_continuous_scale='blues'\n",
    ")\n",
    "\n",
    "# Show the treemap\n",
    "fig.show()"
   ]
  },
  {
   "cell_type": "markdown",
   "id": "cb7ccc32",
   "metadata": {},
   "source": [
    "# Feature Interactions"
   ]
  },
  {
   "cell_type": "code",
   "execution_count": null,
   "id": "669c4cb5",
   "metadata": {
    "scrolled": true
   },
   "outputs": [],
   "source": [
    "!pip install shap"
   ]
  },
  {
   "cell_type": "code",
   "execution_count": null,
   "id": "60684d33",
   "metadata": {},
   "outputs": [],
   "source": [
    "import shap"
   ]
  },
  {
   "cell_type": "code",
   "execution_count": null,
   "id": "52181c4e",
   "metadata": {},
   "outputs": [],
   "source": [
    "# Train Random Forest Model:\n",
    "X = df_standardized.drop(columns=['Happiness_Score', 'Cluster_Labels'])\n",
    "y = df_standardized['Happiness_Score']"
   ]
  },
  {
   "cell_type": "code",
   "execution_count": null,
   "id": "c85d432c",
   "metadata": {},
   "outputs": [],
   "source": [
    "# Train a Random Forest model on the standardized data:\n",
    "\n",
    "from sklearn.ensemble import RandomForestRegressor\n",
    "\n",
    "rf_model = RandomForestRegressor(n_estimators=100, random_state=42)\n",
    "rf_model.fit(X, y)"
   ]
  },
  {
   "cell_type": "markdown",
   "id": "701c39f5",
   "metadata": {},
   "source": [
    "# Generate SHAP Values"
   ]
  },
  {
   "cell_type": "code",
   "execution_count": null,
   "id": "45f71703",
   "metadata": {},
   "outputs": [],
   "source": [
    "explainer = shap.TreeExplainer(rf_model)\n",
    "shap_values = explainer.shap_values(X)"
   ]
  },
  {
   "cell_type": "code",
   "execution_count": null,
   "id": "7fae8f39",
   "metadata": {},
   "outputs": [],
   "source": [
    "shap.summary_plot(shap_values, X)"
   ]
  },
  {
   "cell_type": "markdown",
   "id": "9293a814",
   "metadata": {},
   "source": [
    "# Merge Clusters back into the Original Dataframe"
   ]
  },
  {
   "cell_type": "code",
   "execution_count": null,
   "id": "63623695",
   "metadata": {},
   "outputs": [],
   "source": [
    "df = pd.read_csv(os.path.join(path, '02 Data', 'Prepared Data', 'happiness_data_cleaned_5.csv'))"
   ]
  },
  {
   "cell_type": "code",
   "execution_count": null,
   "id": "22942e51",
   "metadata": {},
   "outputs": [],
   "source": [
    "df.head()"
   ]
  },
  {
   "cell_type": "code",
   "execution_count": null,
   "id": "18ae4eb2",
   "metadata": {},
   "outputs": [],
   "source": [
    "df_standardized.head()"
   ]
  },
  {
   "cell_type": "code",
   "execution_count": null,
   "id": "17620cd4",
   "metadata": {},
   "outputs": [],
   "source": [
    "# Concatenate the Cluster_Labels column to the original DataFrame\n",
    "merged_df = pd.concat([df, df_standardized['Cluster_Labels']], axis=1)\n",
    "\n",
    "# Display the merged DataFrame\n",
    "print(merged_df.head())"
   ]
  },
  {
   "cell_type": "code",
   "execution_count": null,
   "id": "20b58cd1",
   "metadata": {},
   "outputs": [],
   "source": [
    "merged_df.head()"
   ]
  },
  {
   "cell_type": "code",
   "execution_count": null,
   "id": "48b4f925",
   "metadata": {},
   "outputs": [],
   "source": [
    "# Based on our insights on the clusters, we will create a new column \"Cluster_Names\"\n",
    "\n",
    "# Define the mapping of cluster labels to new names\n",
    "cluster_names = {\n",
    "    0: 'Above Average',\n",
    "    1: 'Well Below Average',\n",
    "    2: 'Below Average',\n",
    "    3: 'Well Above Average'\n",
    "}\n",
    "\n",
    "# Create a new column with cluster names\n",
    "merged_df['Cluster_Names'] = merged_df['Cluster_Labels'].map(cluster_names)\n",
    "merged_df.head()"
   ]
  },
  {
   "cell_type": "code",
   "execution_count": null,
   "id": "e9bf9e27",
   "metadata": {},
   "outputs": [],
   "source": [
    "# Set the style of seaborn\n",
    "sns.set(style=\"whitegrid\")\n",
    "\n",
    "# Create a bar plot of the distribution of countries across clusters\n",
    "plt.figure(figsize=(10, 6))\n",
    "sns.countplot(x='Cluster_Names', data=merged_df, order=['Below Average', 'Above Average', 'Well Below Average', 'Well Above Average'], palette='viridis')\n",
    "plt.title('Distribution of Countries Across Clusters')\n",
    "plt.xlabel('Cluster Names')\n",
    "plt.ylabel('Number of Countries')\n",
    "plt.show()"
   ]
  },
  {
   "cell_type": "code",
   "execution_count": null,
   "id": "ca12aa28",
   "metadata": {},
   "outputs": [],
   "source": [
    "# Create a DataFrame with the count of each cluster name for each region\n",
    "cluster_counts = merged_df.groupby(['Region', 'Cluster_Names']).size().unstack(fill_value=0).reset_index()\n",
    "\n",
    "# Set the style of seaborn\n",
    "sns.set()\n",
    "\n",
    "# Create a stacked bar chart\n",
    "plt.figure(figsize=(14, 8))\n",
    "cluster_counts.set_index('Region').plot(kind='bar', stacked=True, colormap='viridis')\n",
    "plt.title('Distribution of Cluster Names Across Regions')\n",
    "plt.xlabel('Region')\n",
    "plt.ylabel('Count')\n",
    "plt.xticks(rotation=45, ha='right')  # Rotate x-axis labels for better visibility\n",
    "plt.legend(title='Cluster Names', bbox_to_anchor=(1.05, 1), loc='upper left')\n",
    "plt.show()"
   ]
  },
  {
   "cell_type": "code",
   "execution_count": null,
   "id": "58424847",
   "metadata": {},
   "outputs": [],
   "source": [
    "sns.set(style=\"whitegrid\")\n",
    "\n",
    "# Create a stacked bar chart\n",
    "plt.figure(figsize=(12, 6))\n",
    "sns.countplot(x='Year', hue='Cluster_Names', data=merged_df, palette='viridis')\n",
    "\n",
    "# Adjust the legend and labels\n",
    "plt.legend(title='Cluster Names', bbox_to_anchor=(1, 1))\n",
    "plt.title('Distribution of Cluster Names Over Years')\n",
    "plt.xlabel('Year')\n",
    "plt.ylabel('Number of Countries')\n",
    "\n",
    "# Show the plot\n",
    "plt.show()"
   ]
  },
  {
   "cell_type": "code",
   "execution_count": null,
   "id": "0e5fbfd1",
   "metadata": {
    "scrolled": false
   },
   "outputs": [],
   "source": [
    "sns.set(style=\"whitegrid\")\n",
    "\n",
    "# Create a stacked bar chart\n",
    "plt.figure(figsize=(12, 6))\n",
    "sns.countplot(x='Region', hue='Cluster_Names', data=merged_df, palette='viridis')\n",
    "\n",
    "# Adjust the legend and labels\n",
    "plt.legend(title='Cluster Names', bbox_to_anchor=(1, 1))\n",
    "plt.title('Distribution of Cluster Names Across Regions')\n",
    "plt.xlabel('Region')\n",
    "plt.ylabel('Number of Countries')\n",
    "\n",
    "# Rotate x-axis labels for better readability\n",
    "plt.xticks(rotation=45, ha='right')\n",
    "\n",
    "# Show the plot\n",
    "plt.show()"
   ]
  },
  {
   "cell_type": "markdown",
   "id": "91bea465",
   "metadata": {},
   "source": [
    "# Parallel Coordinates to visualize how well the Machine Learning Cluster Names Plot to Actual Variable Scores"
   ]
  },
  {
   "cell_type": "code",
   "execution_count": null,
   "id": "f5290ce9",
   "metadata": {},
   "outputs": [],
   "source": [
    "import matplotlib.pyplot as plt\n",
    "from pandas.plotting import parallel_coordinates\n",
    "\n",
    "# merged_df contains the original variable values and Cluster_Names column\n",
    "df = merged_df[['Happiness_Score', 'GDP_Per_Capita', 'Social_Support', 'Health_Life_Expectancy', 'Freedom_Life_Choices', 'Generosity', 'Perceptions_of_Corruption', 'Cluster_Names']]\n",
    "\n",
    "# Plot parallel coordinates\n",
    "plt.figure(figsize=(12, 8))\n",
    "parallel_coordinates(df, 'Cluster_Names', colormap='viridis')\n",
    "plt.title('Parallel Coordinates Plot of Clustered Countries')\n",
    "plt.show()"
   ]
  },
  {
   "cell_type": "markdown",
   "id": "cbd9048c",
   "metadata": {},
   "source": [
    "# Policy Recommendations: The identified clusters and their characteristics provide valuable insights into the diverse profiles of countries. Governments and policymakers can use this information to tailor policies that address specific needs within each cluster. For example, countries in the \"Well Below Average\" cluster may benefit from targeted interventions to improve economic conditions, social support, and overall well-being."
   ]
  },
  {
   "cell_type": "markdown",
   "id": "c6da2e62",
   "metadata": {},
   "source": [
    "## Exporting Useful Dataframe CSVs for future usage"
   ]
  },
  {
   "cell_type": "code",
   "execution_count": null,
   "id": "fe757684",
   "metadata": {
    "scrolled": true
   },
   "outputs": [],
   "source": [
    "merged_df.head()"
   ]
  },
  {
   "cell_type": "code",
   "execution_count": null,
   "id": "242efbe1",
   "metadata": {
    "scrolled": true
   },
   "outputs": [],
   "source": [
    "df_standardized.head()"
   ]
  }
 ],
 "metadata": {
  "kernelspec": {
   "display_name": "Python 3 (ipykernel)",
   "language": "python",
   "name": "python3"
  },
  "language_info": {
   "codemirror_mode": {
    "name": "ipython",
    "version": 3
   },
   "file_extension": ".py",
   "mimetype": "text/x-python",
   "name": "python",
   "nbconvert_exporter": "python",
   "pygments_lexer": "ipython3",
   "version": "3.11.7"
  }
 },
 "nbformat": 4,
 "nbformat_minor": 5
}
